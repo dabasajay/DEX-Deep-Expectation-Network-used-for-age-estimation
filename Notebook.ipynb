{
  "nbformat": 4,
  "nbformat_minor": 0,
  "metadata": {
    "colab": {
      "name": "Notebook.ipynb",
      "provenance": [],
      "collapsed_sections": [
        "v5b_mbfN4Eq3"
      ]
    },
    "kernelspec": {
      "name": "python3",
      "display_name": "Python 3"
    },
    "accelerator": "GPU"
  },
  "cells": [
    {
      "cell_type": "markdown",
      "metadata": {
        "id": "snrrJup8UO_v",
        "colab_type": "text"
      },
      "source": [
        "# Project - To implement the DEX (Deep Expectation) Network used for age estimation\n",
        "<hr/>\n",
        "\n",
        "##By:\n",
        "\n",
        "|||\n",
        "|-|-|\n",
        "| <font size=\"2\">Name</font> | <font size=\"4\">Ajay Dabas</font> |\n",
        "| <font size=\"2\">Roll Number</font> | <font size=\"4\">2K17/SE/12</font> |\n",
        "| <font size=\"2\">Branch</font> | <font size=\"4\">Software Engineering</font> |\n",
        "| <font size=\"2\">Subject</font> | <font size=\"4\">Computer Vision</font> |\n",
        "| <font size=\"2\">Faculty</font> | <font size=\"4\">Dr. Rajiv Kapoor</font> |\n",
        "\n",
        "## Table of Contents\n",
        "<hr/>\n",
        "\n",
        "1. [Summary](#scrollTo=Tdt8Zg-6V7Zh)\n",
        "2. [Importing Python Modules](#scrollTo=H4hPfGGtV5N0)\n",
        "3. [Dataset Preprocessing](#scrollTo=v5b_mbfN4Eq3)\n",
        "4. [Model Training](#scrollTo=-9sXLbK8-Xph)\n",
        "5. [Model Testing & Results](#scrollTo=Ki1h9GSnU3GS)\n",
        "6. [References](#scrollTo=wnhzkTURWk-r)"
      ]
    },
    {
      "cell_type": "markdown",
      "metadata": {
        "id": "Tdt8Zg-6V7Zh",
        "colab_type": "text"
      },
      "source": [
        "# Summary\n",
        "<hr/>\n",
        "\n",
        "The estimation of apparent age in still face images with deep learning uses the VGG-19 architecture. The age regression problem is posed as a deep classification problem followed by a softmax expected value refinement and show improvements over direct regression training of CNNs. Deep EXpectation (DEX) of apparent age, uses an ensemble of 3 (Original paper uses 20) VGG19 networks to predict the age."
      ]
    },
    {
      "cell_type": "markdown",
      "metadata": {
        "id": "H4hPfGGtV5N0",
        "colab_type": "text"
      },
      "source": [
        "# Importing Python Modules"
      ]
    },
    {
      "cell_type": "code",
      "metadata": {
        "id": "_7w6hefHV2fr",
        "colab_type": "code",
        "colab": {}
      },
      "source": [
        "import os\n",
        "import re\n",
        "import PIL\n",
        "import tarfile\n",
        "import numpy as np\n",
        "from datetime import datetime\n",
        "from shutil import copy as copy_file\n",
        "from tqdm import tqdm_notebook as tqdm\n",
        "from IPython.display import Image, display\n",
        "from keras.models import Model, load_model\n",
        "from keras.layers import Dense, Flatten\n",
        "from keras.callbacks import ModelCheckpoint, TensorBoard\n",
        "from keras.applications.vgg19 import VGG19, preprocess_input\n",
        "from keras.preprocessing.image import load_img, img_to_array\n",
        "# Constants\n",
        "imgs_folder_path = \"dataset/faces/images\""
      ],
      "execution_count": 0,
      "outputs": []
    },
    {
      "cell_type": "markdown",
      "metadata": {
        "id": "v5b_mbfN4Eq3",
        "colab_type": "text"
      },
      "source": [
        "# Dataset Preprocessing"
      ]
    },
    {
      "cell_type": "code",
      "metadata": {
        "id": "3jQAkjXO-Uqd",
        "colab_type": "code",
        "colab": {}
      },
      "source": [
        "# mkdir dataset\n",
        "# ls dataset\n",
        "# !wget \"https://data.vision.ee.ethz.ch/cvl/rrothe/imdb-wiki/static/wiki_crop.tar\"\n",
        "# cd .."
      ],
      "execution_count": 0,
      "outputs": []
    },
    {
      "cell_type": "code",
      "metadata": {
        "id": "S8HmUA56T5aP",
        "colab_type": "code",
        "colab": {}
      },
      "source": [
        "%%time\n",
        "# This cell takes approx. \"9 min\" to execute\n",
        "with tarfile.open('dataset/wiki_crop.tar') as tar:\n",
        "  tar.extractall(path='dataset/faces') # Extract all images from .tar file"
      ],
      "execution_count": 0,
      "outputs": []
    },
    {
      "cell_type": "code",
      "metadata": {
        "id": "pQfm8cBET6hi",
        "colab_type": "code",
        "colab": {}
      },
      "source": [
        "%%time\n",
        "# This cell takes approx. \"49.3 sec\" to execute\n",
        "exp_count = 0\n",
        "for _rootdir, _, _files in tqdm(os.walk('dataset/faces/wiki_crop')):\n",
        "  for _file in _files:\n",
        "    try: # Move all files(face images) into single folder named `all`\n",
        "      os.rename(os.path.join(_rootdir, _file),os.path.join(imgs_folder_path, _file))\n",
        "    except:  # If any error, continue\n",
        "      exp_count+=1\n",
        "      continue\n",
        "print(\"Exceptions encountered: {}\".format(exp_count))"
      ],
      "execution_count": 0,
      "outputs": []
    },
    {
      "cell_type": "code",
      "metadata": {
        "id": "4FqprnoRT6j9",
        "colab_type": "code",
        "colab": {}
      },
      "source": [
        "print('Number of images: {}'.format(len(os.listdir(imgs_folder_path))))"
      ],
      "execution_count": 0,
      "outputs": []
    },
    {
      "cell_type": "code",
      "metadata": {
        "id": "lLKfauSPY4UQ",
        "colab_type": "code",
        "colab": {}
      },
      "source": [
        "%%time\n",
        "# This cell takes approx. \"1min 10s\" mins to execute\n",
        "for _file in tqdm(os.listdir(imgs_folder_path)):\n",
        "  try:\n",
        "    # Example:- 23300_1962-06-19_2011.jpg --> Split: [\"23300\", \"1964-06-19\", \"2011.jpg\"]\n",
        "    file_name = _file.split(\"_\")\n",
        "    # Date of birth of the person\n",
        "    begin_date = datetime.strptime(file_name[1], '%Y-%m-%d')\n",
        "    # The year the picture was taken - 2011 + assuming a mid-year date of month=7 & day=1 for when the photo was taken.\n",
        "    end_date = datetime(year=int(file_name[2][:4]), month=7, day=1)\n",
        "    age = end_date.year - begin_date.year\n",
        "    if age >= 10 and age < 100: # Select only people with age in the range [10,100)\n",
        "      # Rename face images file names with age\n",
        "      os.rename(os.path.join(imgs_folder_path, _file), os.path.join(imgs_folder_path, str(age) + \"_\" + file_name[0] + '.jpg'))\n",
        "    else:\n",
        "      # If invalid age, remove the image\n",
        "      os.remove(os.path.join(imgs_folder_path, _file))\n",
        "  except:\n",
        "      # If any error, remove the image\n",
        "      os.remove(os.path.join(imgs_folder_path, _file))"
      ],
      "execution_count": 0,
      "outputs": []
    },
    {
      "cell_type": "code",
      "metadata": {
        "id": "WQlkJ81ygAKQ",
        "colab_type": "code",
        "colab": {}
      },
      "source": [
        "print('Number of images: {}'.format(len(os.listdir(imgs_folder_path))))"
      ],
      "execution_count": 0,
      "outputs": []
    },
    {
      "cell_type": "code",
      "metadata": {
        "id": "jwwfua54hcKZ",
        "colab_type": "code",
        "colab": {}
      },
      "source": [
        "num_samples = 2\n",
        "random_choice = list(np.random.choice(os.listdir(imgs_folder_path),num_samples))\n",
        "samples = []\n",
        "for choice in random_choice:\n",
        "  space = '='*5\n",
        "  print('\\n',space,'\\tAge: {}\\t'.format(choice.split('_')[0]),space)\n",
        "  display(Image(filename=os.path.join(imgs_folder_path,choice), width=200, height=200))"
      ],
      "execution_count": 0,
      "outputs": []
    },
    {
      "cell_type": "markdown",
      "metadata": {
        "id": "hbALsC92JI_m",
        "colab_type": "text"
      },
      "source": [
        "# Parameters & Helper functions for Training & Testing"
      ]
    },
    {
      "cell_type": "code",
      "metadata": {
        "id": "H4ybM0kTbiYF",
        "colab_type": "code",
        "colab": {}
      },
      "source": [
        "epochs = 2\n",
        "batch_size = 32\n",
        "n_models = 3 # Number of VGG19 models in the ensemble\n",
        "validation_size = 0.5"
      ],
      "execution_count": 0,
      "outputs": []
    },
    {
      "cell_type": "code",
      "metadata": {
        "id": "ZIV5ppjWbl_r",
        "colab_type": "code",
        "colab": {}
      },
      "source": [
        "image_paths_all = os.listdir(imgs_folder_path) # all images\n",
        "image_paths_train = image_paths_all[:int(len(image_paths_all)*validation_size)] # 50% train\n",
        "image_paths_val = image_paths_all[int(len(image_paths_all)*validation_size):] # 50% validation\n",
        "print(\"Training on {} images\".format(len(image_paths_train)))\n",
        "print(\"Validating on {} images\".format(len(image_paths_val)))"
      ],
      "execution_count": 0,
      "outputs": []
    },
    {
      "cell_type": "code",
      "metadata": {
        "id": "Ay1q6OPn0yJi",
        "colab_type": "code",
        "colab": {}
      },
      "source": [
        "# Preprocessing image before feeding to model\n",
        "def preprocess(img_paths):\n",
        "  images = []\n",
        "  labels = []\n",
        "  for img_path in img_paths:\n",
        "    image = load_img(os.path.join(imgs_folder_path,img_path), target_size=(224, 224)) # Load image\n",
        "    image = img_to_array(image) # Convert to numpy array\n",
        "    image = preprocess_input(image) # Preprocess image as required by VGG19 model\n",
        "    if(image.shape!=(224,224,3)):\n",
        "      continue\n",
        "    images.append(image)\n",
        "    labels.append(float(img_path.split('_')[0])) # Extract label from image filename\n",
        "  return np.concatenate([images]), np.array(labels).reshape(len(labels),1)\n",
        "# Generator for batch training\n",
        "def batch_generator(img_paths, batch_size=16, seed=1):\n",
        "  np.random.seed(seed)\n",
        "  np.random.shuffle(img_paths) # Shuffle before use\n",
        "  i=0\n",
        "  while True:\n",
        "    if(i>=len(img_paths)): # Resetting generator\n",
        "      i=0\n",
        "    images, labels = preprocess(img_paths[i:i+batch_size])\n",
        "    i += batch_size\n",
        "    yield images, labels"
      ],
      "execution_count": 0,
      "outputs": []
    },
    {
      "cell_type": "markdown",
      "metadata": {
        "colab_type": "text",
        "id": "-9sXLbK8-Xph"
      },
      "source": [
        "# Model Training"
      ]
    },
    {
      "cell_type": "code",
      "metadata": {
        "colab_type": "code",
        "id": "DZpJsGCf-Xpl",
        "colab": {}
      },
      "source": [
        "def get_model(train_last_layers=4):\n",
        "  base_model = VGG19(weights='imagenet', include_top=False, input_shape = (224, 224, 3))\n",
        "  # Freeze the layers except the last `train_last_layers` layers\n",
        "  for layer in base_model.layers[:-train_last_layers]:\n",
        "    layer.trainable = False\n",
        "  # Check the trainable status of the individual layers\n",
        "  top_model = Flatten()(base_model.output)\n",
        "  top_model = Dense(1, activation='relu')(top_model)\n",
        "  model = Model(inputs=base_model.inputs, outputs=top_model)\n",
        "  model.compile(optimizer='Adam',loss='mean_absolute_error')\n",
        "  return model"
      ],
      "execution_count": 0,
      "outputs": []
    },
    {
      "cell_type": "code",
      "metadata": {
        "id": "PxzDUEMBq3h-",
        "colab_type": "code",
        "colab": {}
      },
      "source": [
        "# for layer in model.layers:\n",
        "#     print(layer, layer.trainable)"
      ],
      "execution_count": 0,
      "outputs": []
    },
    {
      "cell_type": "code",
      "metadata": {
        "id": "8m19pY-zuceA",
        "colab_type": "code",
        "colab": {}
      },
      "source": [
        "# model.summary()"
      ],
      "execution_count": 0,
      "outputs": []
    },
    {
      "cell_type": "code",
      "metadata": {
        "id": "RreEUDg4jo_4",
        "colab_type": "code",
        "colab": {}
      },
      "source": [
        "for model_number in range(n_models):\n",
        "  model = None\n",
        "  name = 'Model '+str(model_number+1)\n",
        "  print(\"\\n\\t==>\",name)\n",
        "  generator_train = batch_generator(image_paths_train, batch_size=batch_size, seed=model_number+1)\n",
        "  generator_val = batch_generator(image_paths_val, batch_size=batch_size, seed=model_number+1)\n",
        "  base_path = os.path.join('model_data',name)\n",
        "  if(os.path.exists(base_path)):\n",
        "    raise NameError('Directory {} already exists. Please delete it first, manually.'.format(base_path))\n",
        "  os.mkdir(base_path)\n",
        "  checkpoint = ModelCheckpoint(filepath=os.path.join(base_path,'epoch-{epoch:02d}_loss-{loss:.4f}_val_loss-{val_loss:.4f}.h5'),\n",
        "                            monitor='val_loss',\n",
        "                            verbose=1,\n",
        "                            save_best_only=True,\n",
        "                            mode='min')\n",
        "  callbacks = [checkpoint]\n",
        "  model = get_model(train_last_layers=1)\n",
        "  model.fit_generator(generator_train,\n",
        "    epochs=epochs,\n",
        "    steps_per_epoch=len(image_paths_train)//batch_size,\n",
        "    validation_data=generator_val,\n",
        "    validation_steps=len(image_paths_val)//batch_size,\n",
        "    callbacks=callbacks,\n",
        "    verbose=1)"
      ],
      "execution_count": 0,
      "outputs": []
    },
    {
      "cell_type": "markdown",
      "metadata": {
        "id": "Ki1h9GSnU3GS",
        "colab_type": "text"
      },
      "source": [
        "# Model Testing & Results"
      ]
    },
    {
      "cell_type": "code",
      "metadata": {
        "id": "DAr47NO3D6RI",
        "colab_type": "code",
        "colab": {}
      },
      "source": [
        "# Load all models for ensembling\n",
        "ensemble_models = {}\n",
        "for model_number in range(n_models):\n",
        "  name = 'Model '+str(model_number+1)\n",
        "  base_path = os.path.join('model_data',name)\n",
        "  # Find the last checkpoint for each model\n",
        "  model_checkpoints = os.listdir(base_path)\n",
        "  _list = [(int(re.findall(\"\\d{1,3}\",model_ckpt)[0]),model_ckpt) for model_ckpt in model_checkpoints]\n",
        "  if(len(_list)==0):\n",
        "    raise ValueError('No checkpoints found for {}'.format(name))\n",
        "  sorted(_list)\n",
        "  model_file = _list[0][1]\n",
        "  # Load the model\n",
        "  model = load_model(os.path.join(base_path,model_file))\n",
        "  # Append model to the ensemble\n",
        "  ensemble_models[name] = model"
      ],
      "execution_count": 0,
      "outputs": []
    },
    {
      "cell_type": "code",
      "metadata": {
        "id": "TuAKI6Q6MKPK",
        "colab_type": "code",
        "colab": {}
      },
      "source": [
        "# Test on a random image from validation set\n",
        "random_choice = list(np.random.choice(image_paths_val,1)) # Choose a random image\n",
        "test_image, _ = preprocess(random_choice) # Preprocess image\n",
        "predictions = {}\n",
        "for model_name,model in ensemble_models.items():\n",
        "  prediction = model.predict(test_image)\n",
        "  predictions[model_name] = prediction\n",
        "print(' > True Age : {}'.format(random_choice[0].split('_')[0]))\n",
        "ensemble_avg_prediction = 0\n",
        "for model_name,prediction in predictions.items():\n",
        "  print(' > Predicted Age by {0} : {1:.4f}'.format(model_name,prediction[0][0]))\n",
        "  ensemble_avg_prediction = ensemble_avg_prediction + prediction[0][0]\n",
        "print(' > Predicted Age by Ensembling : {0:.4f}'.format(ensemble_avg_prediction/n_models))\n",
        "display(Image(filename=os.path.join(imgs_folder_path,random_choice[0]), width=200, height=200))"
      ],
      "execution_count": 0,
      "outputs": []
    },
    {
      "cell_type": "markdown",
      "metadata": {
        "id": "wnhzkTURWk-r",
        "colab_type": "text"
      },
      "source": [
        "# References\n",
        "<hr/>\n",
        "\n",
        "<ul type=\"square\">\n",
        "\t<li><a href=\"https://link.springer.com/content/pdf/10.1007%2Fs11263-016-0940-3.pdf\">“Deep EXpectation of real and apparent age from a single image without facial landmarks”, 2018 International Journal of Computer Vision 126:144-157</a></li>\n",
        "</ul>"
      ]
    }
  ]
}
